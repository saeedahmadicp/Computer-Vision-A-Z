{
  "nbformat": 4,
  "nbformat_minor": 0,
  "metadata": {
    "colab": {
      "name": "CI_assignement_3.ipynb",
      "provenance": [],
      "collapsed_sections": [],
      "include_colab_link": true
    },
    "kernelspec": {
      "name": "python3",
      "display_name": "Python 3"
    }
  },
  "cells": [
    {
      "cell_type": "markdown",
      "metadata": {
        "id": "view-in-github",
        "colab_type": "text"
      },
      "source": [
        "<a href=\"https://colab.research.google.com/github/saeedahmadicp/Computer-Vision-A-Z/blob/master/CI_assignement_3.ipynb\" target=\"_parent\"><img src=\"https://colab.research.google.com/assets/colab-badge.svg\" alt=\"Open In Colab\"/></a>"
      ]
    },
    {
      "cell_type": "code",
      "metadata": {
        "id": "zMmMVVWsTqop",
        "outputId": "3a48742c-b4bd-4d29-fb95-e4e6eb55f593",
        "colab": {
          "base_uri": "https://localhost:8080/"
        }
      },
      "source": [
        "\"\"\"\n",
        "input = bipolar, output = bipolar , learning_method = hebb's\n",
        "AND Gate\n",
        "Step 0. Initialization: b = 0, wi = 0, i = 1 to n\n",
        "Step 1. For each of the training sample s:t do steps 2 -4\n",
        "/* s is the input pattern, t the target output of the sample */\n",
        "Step 2. xi := si, i = 1 to n /* set s to input units */\n",
        "Step 3. y := t /* set y to the target */\n",
        "Step 4. wi := wi + xi * y, i = 1 to n /* update weight */\n",
        "b := b + y /* update bias */\n",
        "\"\"\"\n",
        "\n",
        " \n",
        "samples = [[-1,-1], [-1,1], [1,-1], [1,1]]\n",
        "target = [-1,-1,-1,1]\n",
        "\n",
        "\n",
        "noOfSamples = 4\n",
        "#weight Initialization\n",
        "w1 = 0\n",
        "w2 = 0\n",
        "b = 0\n",
        " \n",
        "for epoch in range(noOfSamples):\n",
        "  y = target[epoch]\n",
        "  w1 = w1 + (target[epoch]* samples[epoch][0])\n",
        "  w2 = w2 + (target[epoch] * samples[epoch][1])\n",
        "  b = b + target[epoch]\n",
        " \n",
        " \n",
        "print(f'w1 = {w1}, w2 = {w2}, b = {b} \\n')\n",
        " \n",
        " \n",
        "def output(x1,x2):\n",
        "  if((w1*x1 + w2*x2 +b) >= 1):\n",
        "   return 1\n",
        "  else:\n",
        "   return -1\n",
        " \n",
        " \n",
        "#testing\n",
        "for epoch in range(noOfSamples):\n",
        "  print(f'x1 = {samples[epoch][0]} , x2 = {samples[epoch][1]}, output will be: {output(samples[epoch][0],samples[epoch][1] )}\\n')\n",
        "\n"
      ],
      "execution_count": null,
      "outputs": [
        {
          "output_type": "stream",
          "text": [
            "w1 = 2, w2 = 2, b = -2 \n",
            "\n",
            "x1 = -1 , x2 = -1, output will be: -1\n",
            "\n",
            "x1 = -1 , x2 = 1, output will be: -1\n",
            "\n",
            "x1 = 1 , x2 = -1, output will be: -1\n",
            "\n",
            "x1 = 1 , x2 = 1, output will be: 1\n",
            "\n"
          ],
          "name": "stdout"
        }
      ]
    },
    {
      "cell_type": "code",
      "metadata": {
        "id": "ByWEcJoOa5O8",
        "outputId": "2e6ac8eb-edbe-439b-ec40-d60f4eb12e51",
        "colab": {
          "base_uri": "https://localhost:8080/"
        }
      },
      "source": [
        "\"\"\"\n",
        "input = bipolar, output = bipolar , learning_method = hebb's\n",
        "OR Gate\n",
        "Step 0. Initialization: b = 0, wi = 0, i = 1 to n\n",
        "Step 1. For each of the training sample s:t do steps 2 -4\n",
        "/* s is the input pattern, t the target output of the sample */\n",
        "Step 2. xi := si, i = 1 to n /* set s to input units */\n",
        "Step 3. y := t /* set y to the target */\n",
        "Step 4. wi := wi + xi * y, i = 1 to n /* update weight */\n",
        "b := b + y /* update bias */\n",
        "\"\"\"\n",
        "\n",
        "samples = [[-1,-1], [-1,1], [1,-1], [1,1]]\n",
        "target = [-1,1,1,1]\n",
        " \n",
        "noOfSamples = 4\n",
        "#weight Initialization\n",
        "w1 = 0\n",
        "w2 = 0\n",
        "b = 0\n",
        " \n",
        "for epoch in range(noOfSamples):\n",
        "  y = target[epoch]\n",
        "  w1 = w1 + (target[epoch]* samples[epoch][0])\n",
        "  w2 = w2 + (target[epoch] * samples[epoch][1])\n",
        "  b = b + target[epoch]\n",
        "\n",
        "\n",
        "print(f'w1 = {w1}, w2 = {w2}, b = {b} \\n')\n",
        "\n",
        "def output(x1,x2):\n",
        "  if((w1*x1 + w2*x2 +b) > -1):\n",
        "   return 1\n",
        "  else:\n",
        "   return -1\n",
        " \n",
        " \n",
        "#testing\n",
        "for epoch in range(noOfSamples):\n",
        "  print(f'x1 = {samples[epoch][0]} , x2 = {samples[epoch][1]}, output will be: {output(samples[epoch][0],samples[epoch][1] )}\\n')"
      ],
      "execution_count": null,
      "outputs": [
        {
          "output_type": "stream",
          "text": [
            "w1 = 2, w2 = 2, b = 2 \n",
            "\n",
            "x1 = -1 , x2 = -1, output will be: -1\n",
            "\n",
            "x1 = -1 , x2 = 1, output will be: 1\n",
            "\n",
            "x1 = 1 , x2 = -1, output will be: 1\n",
            "\n",
            "x1 = 1 , x2 = 1, output will be: 1\n",
            "\n"
          ],
          "name": "stdout"
        }
      ]
    },
    {
      "cell_type": "code",
      "metadata": {
        "id": "yVpNFpE0ukxi",
        "outputId": "8045c30f-9bda-468a-e049-874a7f8097cc",
        "colab": {
          "base_uri": "https://localhost:8080/"
        }
      },
      "source": [
        "\"\"\"\n",
        "input = bipolar, output = bipolar , learning_method = perceptron\n",
        "AND Gate\n",
        "\"\"\"\n",
        "import matplotlib.pyplot as plt\n",
        "\n",
        " \n",
        "samples = [[-1,-1], [-1,1], [1,-1], [1,1]]\n",
        "target = [-1,-1,-1,1]\n",
        "\n",
        "\n",
        "noOfSamples = 4\n",
        "#weight Initialization\n",
        "w1 = 0\n",
        "w2 = 0\n",
        "b = 0.0\n",
        "lr = 1\n",
        "theta = 0\n",
        " \n",
        "for epoch in range(noOfSamples):\n",
        "  x1 = samples[epoch][0]\n",
        "  x2 = samples[epoch][1]\n",
        "  yin = b + x1*w1 + x2*w2\n",
        "\n",
        "  y = -2\n",
        "\n",
        "  if yin > theta:\n",
        "    y = 1\n",
        "  elif yin == theta:\n",
        "    y = 0\n",
        "    \n",
        "  else:\n",
        "    y = -1\n",
        "\n",
        "  print(y)\n",
        "  \n",
        "  if(y != target[epoch]):\n",
        "    print(\"i r2an\")\n",
        "    w1 = w1 + (lr*target[epoch]*x1)\n",
        "    w2 = w2 + (lr*target[epoch]*x2)\n",
        "    b = b + (lr*target[epoch])\n",
        "\n",
        "  print(f'w1 = {w1}, w2 = {w2}, b = {b} \\n')\n",
        "  \n",
        "  #b = b + target[epoch]\n",
        " \n",
        " \n",
        "\n",
        " \n",
        " \n",
        "def output(x1,x2):\n",
        "  if((w1*x1 + w2*x2 +b) >= 1):\n",
        "   return 1\n",
        "  else:\n",
        "   return -1\n",
        " \n",
        " \n",
        "#testing\n",
        "for epoch in range(noOfSamples):\n",
        "  print(f'x1 = {samples[epoch][0]} , x2 = {samples[epoch][1]}, output will be: {output(samples[epoch][0],samples[epoch][1] )}\\n')\n",
        "\n"
      ],
      "execution_count": null,
      "outputs": [
        {
          "output_type": "stream",
          "text": [
            "0\n",
            "i r2an\n",
            "w1 = 1, w2 = 1, b = -1.0 \n",
            "\n",
            "-1\n",
            "w1 = 1, w2 = 1, b = -1.0 \n",
            "\n",
            "-1\n",
            "w1 = 1, w2 = 1, b = -1.0 \n",
            "\n",
            "1\n",
            "w1 = 1, w2 = 1, b = -1.0 \n",
            "\n",
            "x1 = -1 , x2 = -1, output will be: -1\n",
            "\n",
            "x1 = -1 , x2 = 1, output will be: -1\n",
            "\n",
            "x1 = 1 , x2 = -1, output will be: -1\n",
            "\n",
            "x1 = 1 , x2 = 1, output will be: 1\n",
            "\n"
          ],
          "name": "stdout"
        }
      ]
    },
    {
      "cell_type": "code",
      "metadata": {
        "id": "NVl__wH3hZ4J",
        "outputId": "21b3d3c1-235a-4093-cbd0-9e3875a35f6a",
        "colab": {
          "base_uri": "https://localhost:8080/",
          "height": 107
        }
      },
      "source": [
        "\"\"\"\n",
        "input = bipolar, output = bipolar , learning_method = perciptron\n",
        "AND Gate\n",
        "Step 0. Initialization: b = 0, wi = 0, i = 1 to n\n",
        "Step 1. While stop condition is false do steps 2-5\n",
        "Step 2. For each of the training sample s:t do steps 3 -5\n",
        "Step 3. xi := si, i = 1 to n\n",
        "Step 4. compute y\n",
        "Step 5. If y != t\n",
        "wi := wi + a * xi * t, i = 1 to n\n",
        "b := b + a * t\n",
        "\"\"\"\n",
        "\n",
        "import random\n",
        " \n",
        "samples = [[0,0], [0,1], [1,0], [1,1]]\n",
        "target = [0,0,0,1]\n",
        "\n",
        "\n",
        "noOfSamples = 4\n",
        "#weight Initialization\n",
        "w1 = random.uniform(-0.5,0.5)\n",
        "w2 = random.uniform(-0.5,0.5)\n",
        "b = 0\n",
        "isChanged = True\n",
        "noOfIterations = 100\n",
        "learning_rate = 0.1\n",
        "\n",
        "print(w1, w2)\n",
        "#computing y_in and producing output\n",
        "def y_in_output(x1, x2, b,w1,w2):\n",
        "  if((x1*w1 + x1*w2 + b) > 0):\n",
        "    return 1\n",
        "  elif((x1*w1 + x1*w2 + b) <= 0 and (x1*w1 + x1*w2 + b) >= -0 ):\n",
        "    return 0\n",
        "  else:\n",
        "    return -1\n",
        "\n",
        "\n",
        "\n",
        "while(noOfIterations > 0 and isChanged):\n",
        "  isChanged = False\n",
        "  noOfIterations -= 1\n",
        "  for epoch in range(noOfSamples):\n",
        "    if(y_in_output(samples[epoch][0],samples[epoch][1], b,w1,w2) != target[epoch]):\n",
        "      isChanged = True\n",
        "      w1 = w1 + learning_rate * samples[epoch][0] * target[epoch]\n",
        "      w2 = w2 + learning_rate * samples[epoch][1] * target[epoch]\n",
        "      b = b + learning_rate * target[epoch]\n",
        "      \n",
        "\n",
        "\n",
        " \n",
        " \n",
        "print(f'w1 = {w1}, w2 = {w2}, b = {b} \\n')\n",
        " \n",
        "\"\"\"\n",
        "def output(x1,x2):\n",
        "  if((w1*x1 + w2*x2 +b) >= 1):\n",
        "   return 1\n",
        "  else:\n",
        "   return -1\n",
        " \n",
        " \n",
        "#testing\n",
        "for epoch in range(noOfSamples):\n",
        "  print(f'x1 = {samples[epoch][0]} , x2 = {samples[epoch][1]}, output will be: {output(samples[epoch][0],samples[epoch][1] )}\\n')\n",
        "\"\"\""
      ],
      "execution_count": 105,
      "outputs": [
        {
          "output_type": "stream",
          "text": [
            "-0.04367047825888104 0.19519327258642705\n",
            "w1 = -0.04367047825888104, w2 = 0.19519327258642705, b = 0.0 \n",
            "\n"
          ],
          "name": "stdout"
        },
        {
          "output_type": "execute_result",
          "data": {
            "application/vnd.google.colaboratory.intrinsic+json": {
              "type": "string"
            },
            "text/plain": [
              "\"\\ndef output(x1,x2):\\n  if((w1*x1 + w2*x2 +b) >= 1):\\n   return 1\\n  else:\\n   return -1\\n \\n \\n#testing\\nfor epoch in range(noOfSamples):\\n  print(f'x1 = {samples[epoch][0]} , x2 = {samples[epoch][1]}, output will be: {output(samples[epoch][0],samples[epoch][1] )}\\n')\\n\""
            ]
          },
          "metadata": {
            "tags": []
          },
          "execution_count": 105
        }
      ]
    }
  ]
}